{
 "cells": [
  {
   "cell_type": "markdown",
   "id": "4ff03789",
   "metadata": {},
   "source": [
    "### Análise Exploratória do Desempenho de Alunos do Ensino Médio"
   ]
  },
  {
   "cell_type": "markdown",
   "id": "4cb83e16",
   "metadata": {},
   "source": [
    "O objetivo desta análise é \n",
    "\n"
   ]
  },
  {
   "cell_type": "markdown",
   "id": "28732e4d",
   "metadata": {},
   "source": [
    "## 1. Análise Inicial e Compreensão do Dataset\n",
    "\n",
    "# 1.1 Importação de Bibliotecas e Carregamento dos Dados"
   ]
  },
  {
   "cell_type": "code",
   "execution_count": null,
   "id": "5f92c0f0",
   "metadata": {
    "vscode": {
     "languageId": "plaintext"
    }
   },
   "outputs": [],
   "source": []
  }
 ],
 "metadata": {
  "language_info": {
   "name": "python"
  }
 },
 "nbformat": 4,
 "nbformat_minor": 5
}
